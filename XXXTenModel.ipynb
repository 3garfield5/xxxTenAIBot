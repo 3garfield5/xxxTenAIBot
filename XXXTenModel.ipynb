{
  "nbformat": 4,
  "nbformat_minor": 0,
  "metadata": {
    "colab": {
      "provenance": [],
      "gpuType": "T4"
    },
    "kernelspec": {
      "name": "python3",
      "display_name": "Python 3"
    },
    "language_info": {
      "name": "python"
    },
    "accelerator": "GPU"
  },
  "cells": [
    {
      "cell_type": "code",
      "source": [
        "!pip install --upgrade datasets"
      ],
      "metadata": {
        "id": "e02vFbs2CxIY"
      },
      "execution_count": null,
      "outputs": []
    },
    {
      "cell_type": "code",
      "execution_count": 1,
      "metadata": {
        "id": "hJ0YM4VXCfCe"
      },
      "outputs": [],
      "source": [
        "from datasets import load_dataset\n",
        "from transformers import GPT2Tokenizer, GPT2LMHeadModel\n",
        "from torch.utils.data import TensorDataset, DataLoader\n",
        "import torch\n",
        "from tqdm.auto import tqdm\n",
        "import copy\n",
        "from torch import nn\n",
        "import numpy as np\n",
        "import gc\n",
        "import matplotlib.pyplot as plt"
      ]
    },
    {
      "cell_type": "code",
      "source": [
        "datasets = load_dataset(\"huggingartists/xxxtentacion\")"
      ],
      "metadata": {
        "id": "Cg2p2NdNCg-A"
      },
      "execution_count": null,
      "outputs": []
    },
    {
      "cell_type": "code",
      "source": [
        "tokenizer = GPT2Tokenizer.from_pretrained('gpt2')\n",
        "tokenizer.pad_token = tokenizer.eos_token\n",
        "\n",
        "tokenized_dataset = datasets.map(\n",
        "    lambda x: tokenizer(\n",
        "        x['text'],\n",
        "        padding='max_length',\n",
        "        max_length=512,\n",
        "        truncation=True\n",
        "    ),\n",
        "    batched=True\n",
        ")"
      ],
      "metadata": {
        "id": "Vm7-_qrHDDiw"
      },
      "execution_count": null,
      "outputs": []
    },
    {
      "cell_type": "code",
      "source": [
        "train_dataset = TensorDataset(torch.tensor(tokenized_dataset['train']['input_ids']),\n",
        "                              torch.tensor(tokenized_dataset['train']['attention_mask']))\n",
        "train_dataloader = DataLoader(train_dataset, batch_size=8)"
      ],
      "metadata": {
        "id": "Fuz62hX2DFZ-"
      },
      "execution_count": null,
      "outputs": []
    },
    {
      "cell_type": "code",
      "source": [
        "def generate_sample(model, tokenizer, device, prompt=\"\"):\n",
        "    model.eval()\n",
        "    input_ids = tokenizer.encode(prompt, return_tensors='pt').to(device)\n",
        "\n",
        "    with torch.no_grad():\n",
        "        output = model.generate(\n",
        "            input_ids,\n",
        "            max_length=100,\n",
        "            do_sample=True,\n",
        "            top_k=50,\n",
        "            temperature=1,\n",
        "            pad_token_id=tokenizer.eos_token_id\n",
        "        )\n",
        "\n",
        "    return tokenizer.decode(output[0], skip_special_tokens=True)\n",
        "\n",
        "def train_GPT(model, train_dataloader, device, epochs=5):\n",
        "    prompt = \"\"\"\n",
        "    Description: Hi! Answer as naturally as possible. You're chatting with a person, so you don't need to repeat your phrases much\n",
        "    Request: Let's talk about music\n",
        "    \"\"\"\n",
        "    model = copy.deepcopy(model)\n",
        "    model.to(device)\n",
        "\n",
        "    optimizer = torch.optim.AdamW(model.parameters())\n",
        "\n",
        "    losses = []\n",
        "    style_samples  = []\n",
        "    perplexity = []\n",
        "\n",
        "    for epoch in range(epochs):\n",
        "        torch.cuda.empty_cache()\n",
        "        model.train()\n",
        "        losses_per_epoch = []\n",
        "\n",
        "        progress_bar = tqdm(train_dataloader, desc=f'Epoch: {epoch + 1}')\n",
        "        for batch in progress_bar:\n",
        "            input_ids = batch[0].to(device)\n",
        "            attention_mask = batch[1].to(device)\n",
        "\n",
        "            optimizer.zero_grad()\n",
        "            outputs = model(input_ids, attention_mask=attention_mask, labels=input_ids)\n",
        "            loss = outputs.loss\n",
        "            loss.backward()\n",
        "            optimizer.step()\n",
        "            losses_per_epoch.append(loss.item())\n",
        "            progress_bar.set_postfix({'loss': loss.item()})\n",
        "\n",
        "        avg_loss = np.mean(losses_per_epoch)\n",
        "        losses.append(avg_loss)\n",
        "\n",
        "        perplex = np.exp(avg_loss)\n",
        "        perplexity.append(perplex)\n",
        "        sample = generate_sample(model, tokenizer, device, prompt)\n",
        "        style_samples.append(sample)\n",
        "\n",
        "        print(f\"\\nEpoch {epoch+1}\")\n",
        "        print(f\"Train Loss: {avg_loss:.4f} | Perplexity: {perplex:.4f}\")\n",
        "        print(\"Generated Sample:\")\n",
        "        print(sample + \"\\n\")\n",
        "\n",
        "\n",
        "    return model, losses, perplexity"
      ],
      "metadata": {
        "id": "PPaDuLx0DG0x"
      },
      "execution_count": 5,
      "outputs": []
    },
    {
      "cell_type": "code",
      "source": [
        "device = torch.device(\"cuda\" if torch.cuda.is_available() else \"cpu\")\n",
        "gc.collect()\n",
        "torch.cuda.empty_cache()\n",
        "model = GPT2LMHeadModel.from_pretrained('gpt2')\n",
        "train_model, loss, preplex = train_GPT(model, train_dataloader, device, 10)"
      ],
      "metadata": {
        "id": "Z5D8h2qFDJTB"
      },
      "execution_count": null,
      "outputs": []
    },
    {
      "cell_type": "code",
      "source": [
        "plt.plot(loss, label='loss')\n",
        "plt.plot(preplex, label='perplexity')\n",
        "plt.title('metrics')\n",
        "plt.xlabel('Epoch')\n",
        "plt.ylabel('metrics')\n",
        "plt.legend()"
      ],
      "metadata": {
        "colab": {
          "base_uri": "https://localhost:8080/",
          "height": 489
        },
        "id": "Sk3OrSV6DKeL",
        "outputId": "b59adde7-2920-40c6-de30-3a89c4c1c2df"
      },
      "execution_count": 7,
      "outputs": [
        {
          "output_type": "execute_result",
          "data": {
            "text/plain": [
              "<matplotlib.legend.Legend at 0x7d3ab5d99c10>"
            ]
          },
          "metadata": {},
          "execution_count": 7
        },
        {
          "output_type": "display_data",
          "data": {
            "text/plain": [
              "<Figure size 640x480 with 1 Axes>"
            ],
            "image/png": "[encoded data removed]"
          },
          "metadata": {}
        }
      ]
    },
    {
      "cell_type": "code",
      "source": [
        "prompt = \"\"\"\n",
        "stop repeating the same words, and answer naturally\n",
        "question: Lets talk about music\n",
        "\"\"\"\n",
        "sample = generate_sample(train_model, tokenizer, device, prompt)\n",
        "print(sample)"
      ],
      "metadata": {
        "colab": {
          "base_uri": "https://localhost:8080/"
        },
        "id": "VgvtGXMpDK50",
        "outputId": "57538e75-670c-4259-ae16-794c6a3e0d5a"
      },
      "execution_count": 8,
      "outputs": [
        {
          "output_type": "stream",
          "name": "stdout",
          "text": [
            "\n",
            "stop repeating the same words, and answer naturally\n",
            "question: Lets talk about music\n",
            "We as a nation give rise to this man\n",
            "This world is so ice, I cannot understand it\n",
            "My anxiety and troubles over people who never gave a fucking care\n",
            "Im charging and putting the people down to where they’re nowhere \n",
            "This soothes me, I feel my anxiety and troubles over people who never gave a fucking care \n",
            "This soothes me, I feel my anxiety and troubles\n"
          ]
        }
      ]
    },
    {
      "cell_type": "code",
      "source": [
        "output_dir = \"/content/save\"\n",
        "train_model.save_pretrained(output_dir)\n",
        "tokenizer.save_pretrained(output_dir)\n",
        "\n",
        "print(f\"Модель сохранена в {output_dir}\")"
      ],
      "metadata": {
        "colab": {
          "base_uri": "https://localhost:8080/"
        },
        "id": "TGuf4v9qJei8",
        "outputId": "990f7d46-49e5-4cf0-b27b-b832359dbb08"
      },
      "execution_count": 9,
      "outputs": [
        {
          "output_type": "stream",
          "name": "stdout",
          "text": [
            "Модель сохранена в /content/save\n"
          ]
        }
      ]
    },
    {
      "cell_type": "code",
      "source": [
        "!zip -r model.zip /content/save/\n",
        "from google.colab import files\n",
        "files.download('model.zip')"
      ],
      "metadata": {
        "colab": {
          "base_uri": "https://localhost:8080/",
          "height": 156
        },
        "id": "uJkPkJ_pLYgy",
        "outputId": "5b63c8eb-2c08-4a0c-bf6a-459c13526a56"
      },
      "execution_count": 10,
      "outputs": [
        {
          "output_type": "stream",
          "name": "stdout",
          "text": [
            "  adding: content/save/ (stored 0%)\n",
            "  adding: content/save/special_tokens_map.json (deflated 74%)\n",
            "  adding: content/save/model.safetensors (deflated 7%)\n",
            "  adding: content/save/merges.txt (deflated 53%)\n",
            "  adding: content/save/generation_config.json (deflated 24%)\n",
            "  adding: content/save/vocab.json (deflated 68%)\n",
            "  adding: content/save/config.json (deflated 51%)\n",
            "  adding: content/save/tokenizer_config.json (deflated 56%)\n"
          ]
        },
        {
          "output_type": "display_data",
          "data": {
            "text/plain": [
              "<IPython.core.display.Javascript object>"
            ],
            "application/javascript": [
              "\n",
              "    async function download(id, filename, size) {\n",
              "      if (!google.colab.kernel.accessAllowed) {\n",
              "        return;\n",
              "      }\n",
              "      const div = document.createElement('div');\n",
              "      const label = document.createElement('label');\n",
              "      label.textContent = `Downloading \"${filename}\": `;\n",
              "      div.appendChild(label);\n",
              "      const progress = document.createElement('progress');\n",
              "      progress.max = size;\n",
              "      div.appendChild(progress);\n",
              "      document.body.appendChild(div);\n",
              "\n",
              "      const buffers = [];\n",
              "      let downloaded = 0;\n",
              "\n",
              "      const channel = await google.colab.kernel.comms.open(id);\n",
              "      // Send a message to notify the kernel that we're ready.\n",
              "      channel.send({})\n",
              "\n",
              "      for await (const message of channel.messages) {\n",
              "        // Send a message to notify the kernel that we're ready.\n",
              "        channel.send({})\n",
              "        if (message.buffers) {\n",
              "          for (const buffer of message.buffers) {\n",
              "            buffers.push(buffer);\n",
              "            downloaded += buffer.byteLength;\n",
              "            progress.value = downloaded;\n",
              "          }\n",
              "        }\n",
              "      }\n",
              "      const blob = new Blob(buffers, {type: 'application/binary'});\n",
              "      const a = document.createElement('a');\n",
              "      a.href = window.URL.createObjectURL(blob);\n",
              "      a.download = filename;\n",
              "      div.appendChild(a);\n",
              "      a.click();\n",
              "      div.remove();\n",
              "    }\n",
              "  "
            ]
          },
          "metadata": {}
        },
        {
          "output_type": "display_data",
          "data": {
            "text/plain": [
              "<IPython.core.display.Javascript object>"
            ],
            "application/javascript": [
              "download(\"download_448b5dd0-4bbb-49b7-b362-da8240416973\", \"model.zip\", 462858848)"
            ]
          },
          "metadata": {}
        }
      ]
    }
  ]
}